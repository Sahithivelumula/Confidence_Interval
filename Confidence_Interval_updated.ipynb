{
  "cells": [
    {
      "cell_type": "markdown",
      "metadata": {
        "id": "view-in-github",
        "colab_type": "text"
      },
      "source": [
        "<a href=\"https://colab.research.google.com/github/Sahithivelumula/Confidence_Interval/blob/main/Confidence_Interval_updated.ipynb\" target=\"_parent\"><img src=\"https://colab.research.google.com/assets/colab-badge.svg\" alt=\"Open In Colab\"/></a>"
      ]
    },
    {
      "cell_type": "code",
      "execution_count": 14,
      "metadata": {
        "ExecuteTime": {
          "end_time": "2022-12-09T04:40:41.349278Z",
          "start_time": "2022-12-09T04:40:39.672372Z"
        },
        "id": "HG9rx3OGROom"
      },
      "outputs": [],
      "source": [
        "from scipy import stats\n",
        "import pandas as pd\n",
        "import numpy as np\n"
      ]
    },
    {
      "cell_type": "code",
      "execution_count": 15,
      "metadata": {
        "ExecuteTime": {
          "end_time": "2022-12-09T04:40:42.851963Z",
          "start_time": "2022-12-09T04:40:42.805337Z"
        },
        "colab": {
          "base_uri": "https://localhost:8080/"
        },
        "id": "bZ8G0WJ6ROos",
        "outputId": "389e284a-fd3b-4bcf-b3ad-8a4480d7fc74"
      },
      "outputs": [
        {
          "output_type": "stream",
          "name": "stdout",
          "text": [
            "            Date      Date.1    Close      gain\n",
            "0     2010-01-05  2010-01-05  1616.80 -0.005444\n",
            "1     2010-01-06  2010-01-06  1638.50  0.013422\n",
            "2     2010-01-07  2010-01-07  1648.70  0.006225\n",
            "3     2010-01-08  2010-01-08  1639.80 -0.005398\n",
            "4     2010-01-11  2010-01-11  1629.45 -0.006312\n",
            "...          ...         ...      ...       ...\n",
            "1733  2016-12-26  2016-12-26  2723.50 -0.001283\n",
            "1734  2016-12-27  2016-12-27  2701.75 -0.007986\n",
            "1735  2016-12-28  2016-12-28  2702.15  0.000148\n",
            "1736  2016-12-29  2016-12-29  2727.90  0.009529\n",
            "1737  2016-12-30  2016-12-30  2729.80  0.000697\n",
            "\n",
            "[1738 rows x 4 columns]\n"
          ]
        }
      ],
      "source": [
        "glaxo_df=pd.read_csv('glaxo_df.csv')\n",
        "print(glaxo_df)"
      ]
    },
    {
      "cell_type": "code",
      "execution_count": 16,
      "metadata": {
        "ExecuteTime": {
          "end_time": "2022-12-09T04:44:06.025013Z",
          "start_time": "2022-12-09T04:44:06.010637Z"
        },
        "colab": {
          "base_uri": "https://localhost:8080/"
        },
        "id": "NHr_QGzvROot",
        "outputId": "3078a1f0-d749-476e-d0e8-4e42bb119f5e"
      },
      "outputs": [
        {
          "output_type": "stream",
          "name": "stdout",
          "text": [
            "Gain at 95% confidence interval is: [-0.0258  0.0266]\n"
          ]
        }
      ],
      "source": [
        "glaxo_df_ci = stats.norm.interval(0.95,\n",
        "loc = glaxo_df.gain.mean(),\n",
        "scale = glaxo_df.gain.std())\n",
        "print( 'Gain at 95% confidence interval is:', np.round(glaxo_df_ci, 4))"
      ]
    },
    {
      "cell_type": "code",
      "execution_count": 17,
      "metadata": {
        "ExecuteTime": {
          "end_time": "2022-12-09T04:41:59.721149Z",
          "start_time": "2022-12-09T04:41:59.702295Z"
        },
        "colab": {
          "base_uri": "https://localhost:8080/"
        },
        "id": "-7E_iTLoROou",
        "outputId": "11771738-effd-45b7-dcbf-ea716c5d8720"
      },
      "outputs": [
        {
          "output_type": "stream",
          "name": "stdout",
          "text": [
            "Gain at 90% confidence interval is: [-0.0216  0.0224]\n"
          ]
        }
      ],
      "source": [
        "glaxo_df_ci = stats.norm.interval(0.90,\n",
        "loc = glaxo_df.gain.mean(),\n",
        "scale = glaxo_df.gain.std())\n",
        "print( 'Gain at 90% confidence interval is:', np.round(glaxo_df_ci, 4))"
      ]
    },
    {
      "cell_type": "code",
      "execution_count": 18,
      "metadata": {
        "ExecuteTime": {
          "end_time": "2022-12-09T04:42:06.505053Z",
          "start_time": "2022-12-09T04:42:06.494667Z"
        },
        "colab": {
          "base_uri": "https://localhost:8080/"
        },
        "id": "54AI4tg1ROov",
        "outputId": "ff5f0263-39a7-4430-b1f7-d1b71b939ce4"
      },
      "outputs": [
        {
          "output_type": "stream",
          "name": "stdout",
          "text": [
            "Gain at 99% confidence interval is: [-0.034   0.0348]\n"
          ]
        }
      ],
      "source": [
        "glaxo_df_ci = stats.norm.interval(0.99,\n",
        "loc = glaxo_df.gain.mean(),\n",
        "scale = glaxo_df.gain.std())\n",
        "print( 'Gain at 99% confidence interval is:', np.round(glaxo_df_ci, 4))"
      ]
    },
    {
      "cell_type": "code",
      "execution_count": 19,
      "metadata": {
        "ExecuteTime": {
          "end_time": "2022-11-04T07:01:47.884878Z",
          "start_time": "2022-11-04T07:01:47.840001Z"
        },
        "colab": {
          "base_uri": "https://localhost:8080/"
        },
        "id": "xnVJnpYeROov",
        "outputId": "39ca23bb-ae9f-409d-dc95-28978f01b57e"
      },
      "outputs": [
        {
          "output_type": "stream",
          "name": "stdout",
          "text": [
            "Gain at 95% confidence interval is: [-0.0515  0.0521]\n"
          ]
        }
      ],
      "source": [
        "beml_df=pd.read_csv('beml_df.csv')\n",
        "\n",
        "beml_df_ci = stats. norm.interval(0.95,\n",
        "loc=beml_df.gain.mean(),\n",
        "scale=beml_df.gain.std())\n",
        "print( 'Gain at 95% confidence interval is:', np.round(beml_df_ci, 4))"
      ]
    },
    {
      "cell_type": "code",
      "execution_count": 20,
      "metadata": {
        "ExecuteTime": {
          "end_time": "2022-12-09T05:07:05.768253Z",
          "start_time": "2022-12-09T05:07:05.742445Z"
        },
        "colab": {
          "base_uri": "https://localhost:8080/"
        },
        "id": "dQeIaV3hROow",
        "outputId": "b5ecc3eb-001e-469a-c941-075235bbcd90"
      },
      "outputs": [
        {
          "output_type": "execute_result",
          "data": {
            "text/plain": [
              "1.959963984540054"
            ]
          },
          "metadata": {},
          "execution_count": 20
        }
      ],
      "source": [
        " stats.norm.ppf(0.975)"
      ]
    },
    {
      "cell_type": "code",
      "execution_count": 21,
      "metadata": {
        "ExecuteTime": {
          "end_time": "2022-12-09T05:07:55.013039Z",
          "start_time": "2022-12-09T05:07:54.989901Z"
        },
        "colab": {
          "base_uri": "https://localhost:8080/"
        },
        "id": "d9qZGm9gROox",
        "outputId": "85ce8c3b-6420-4584-95be-d891498cf75e"
      },
      "outputs": [
        {
          "output_type": "execute_result",
          "data": {
            "text/plain": [
              "2.5758293035489004"
            ]
          },
          "metadata": {},
          "execution_count": 21
        }
      ],
      "source": [
        "stats.norm.ppf(0.995)"
      ]
    },
    {
      "cell_type": "code",
      "execution_count": 22,
      "metadata": {
        "ExecuteTime": {
          "end_time": "2022-12-09T05:08:37.905634Z",
          "start_time": "2022-12-09T05:08:37.887066Z"
        },
        "colab": {
          "base_uri": "https://localhost:8080/"
        },
        "id": "d7pmetr1ROox",
        "outputId": "3e4a9857-c55f-4f19-ea29-902048e3f7fb"
      },
      "outputs": [
        {
          "output_type": "execute_result",
          "data": {
            "text/plain": [
              "1.6448536269514722"
            ]
          },
          "metadata": {},
          "execution_count": 22
        }
      ],
      "source": [
        "stats.norm.ppf(0.95)"
      ]
    },
    {
      "cell_type": "code",
      "execution_count": 23,
      "metadata": {
        "ExecuteTime": {
          "end_time": "2022-12-09T05:10:21.672160Z",
          "start_time": "2022-12-09T05:10:21.651543Z"
        },
        "colab": {
          "base_uri": "https://localhost:8080/"
        },
        "id": "c8MjjspOROoy",
        "outputId": "2617176e-4574-448d-e4fd-c78ef601e558"
      },
      "outputs": [
        {
          "output_type": "execute_result",
          "data": {
            "text/plain": [
              "1.2815515655446004"
            ]
          },
          "metadata": {},
          "execution_count": 23
        }
      ],
      "source": [
        "stats.norm.ppf(0.90)"
      ]
    },
    {
      "cell_type": "code",
      "execution_count": 24,
      "metadata": {
        "ExecuteTime": {
          "end_time": "2022-12-09T05:24:36.038350Z",
          "start_time": "2022-12-09T05:24:36.022802Z"
        },
        "colab": {
          "base_uri": "https://localhost:8080/"
        },
        "id": "9d6SmcLmROoy",
        "outputId": "536559bd-909b-4d41-8e6a-542610a2ce0d"
      },
      "outputs": [
        {
          "output_type": "execute_result",
          "data": {
            "text/plain": [
              "1.977177724476122"
            ]
          },
          "metadata": {},
          "execution_count": 24
        }
      ],
      "source": [
        "stats.t.ppf(0.975,139)"
      ]
    },
    {
      "cell_type": "code",
      "execution_count": 25,
      "metadata": {
        "ExecuteTime": {
          "end_time": "2022-12-09T05:28:09.518512Z",
          "start_time": "2022-12-09T05:28:09.495643Z"
        },
        "colab": {
          "base_uri": "https://localhost:8080/"
        },
        "id": "TlFCI95cROoz",
        "outputId": "5ab40866-55b0-4943-a70e-8788c9197d20"
      },
      "outputs": [
        {
          "output_type": "execute_result",
          "data": {
            "text/plain": [
              "(-0.025818392673534002, 0.02659047483871859)"
            ]
          },
          "metadata": {},
          "execution_count": 25
        }
      ],
      "source": [
        "stats.t.interval(0.95,1737 ,glaxo_df.gain.mean() , glaxo_df.gain.std())"
      ]
    },
    {
      "cell_type": "code",
      "execution_count": 26,
      "metadata": {
        "ExecuteTime": {
          "end_time": "2022-11-04T07:32:23.080322Z",
          "start_time": "2022-11-04T07:32:23.073900Z"
        },
        "colab": {
          "base_uri": "https://localhost:8080/"
        },
        "id": "-LPr1YMMROoz",
        "outputId": "f2c2bec6-3701-49e1-a652-0f3c752686d6"
      },
      "outputs": [
        {
          "output_type": "execute_result",
          "data": {
            "text/plain": [
              "(-0.05156885177136772, 0.05211034792948219)"
            ]
          },
          "metadata": {},
          "execution_count": 26
        }
      ],
      "source": [
        "stats.t.interval(0.95,1737 ,beml_df.gain.mean() , beml_df.gain.std())"
      ]
    },
    {
      "cell_type": "code",
      "source": [],
      "metadata": {
        "id": "4hu_nvCfY34Q"
      },
      "execution_count": 26,
      "outputs": []
    }
  ],
  "metadata": {
    "kernelspec": {
      "display_name": "Python 3 (ipykernel)",
      "language": "python",
      "name": "python3"
    },
    "language_info": {
      "codemirror_mode": {
        "name": "ipython",
        "version": 3
      },
      "file_extension": ".py",
      "mimetype": "text/x-python",
      "name": "python",
      "nbconvert_exporter": "python",
      "pygments_lexer": "ipython3",
      "version": "3.9.7"
    },
    "colab": {
      "provenance": [],
      "include_colab_link": true
    }
  },
  "nbformat": 4,
  "nbformat_minor": 0
}